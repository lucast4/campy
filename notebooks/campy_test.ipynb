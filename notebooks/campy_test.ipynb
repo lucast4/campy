{
 "cells": [
  {
   "cell_type": "code",
   "execution_count": 1,
   "metadata": {},
   "outputs": [],
   "source": [
    "%load_ext autoreload\n",
    "%autoreload 2"
   ]
  },
  {
   "cell_type": "code",
   "execution_count": null,
   "metadata": {},
   "outputs": [],
   "source": [
    "from campy import campy as cp\n",
    "\n"
   ]
  },
  {
   "cell_type": "code",
   "execution_count": null,
   "metadata": {},
   "outputs": [],
   "source": [
    "n_cam = 1\n",
    "fname = \"/Users/lucas/code/campy/configs/config_flir.yaml\"\n",
    "params = cp.LoadConfig(fname)\n",
    "cam_params = cp.CreateCamParams(params, n_cam)\n",
    "cam_params\n",
    "\n",
    "cp.AcquireOneCamera2(n_cam, params)"
   ]
  },
  {
   "cell_type": "code",
   "execution_count": null,
   "metadata": {},
   "outputs": [],
   "source": []
  },
  {
   "cell_type": "code",
   "execution_count": null,
   "metadata": {},
   "outputs": [],
   "source": [
    "import threading, queue\n",
    "from collections import deque\n",
    "\n",
    "\n",
    "threading.Thread()"
   ]
  },
  {
   "cell_type": "markdown",
   "metadata": {},
   "source": [
    "## testing the flir cam module directly (not thru campy)"
   ]
  },
  {
   "cell_type": "code",
   "execution_count": 94,
   "metadata": {},
   "outputs": [
    {
     "name": "stdout",
     "output_type": "stream",
     "text": [
      "=== Opening camera\n",
      "Number of cameras detected: 1\n",
      "Setting gain to 20.0 dB\n",
      "Failed to change Gamma correction (not avaiable on some cameras).\n"
     ]
    }
   ],
   "source": [
    "from campy.cameras.flir import cam\n",
    "from collections import deque\n",
    "writeQueue = deque()\n",
    "stopQueue = deque([], 1)\n",
    "\n",
    "# Start image window display queue ('consumer' thread)\n",
    "dispQueue = deque([], 2)\n",
    "\n",
    "cam_params = {}\n",
    "cam_params[\"n_cam\"] = 1\n",
    "cam_params[\"cameraSelection\"] = 0\n",
    "cam_params[\"cameraName\"] = \"test\"\n",
    "cam_params[\"frameRate\"] = 50\n",
    "cam_params[\"recTimeInSec\"] = 5\n",
    "cam_params[\"chunkLengthInSec\"] = 5\n",
    "cam_params[\"displayDownsample\"] = 2\n",
    "cam_params[\"displayFrameRate\"] = 10\n",
    "\n",
    "camera, cam_params = cam.OpenCamera(cam_params)\n",
    "\n",
    "# camera.start()\n",
    "# cam.GrabFrames(cam_params, camera, writeQueue, dispQueue, stopQueue)\n",
    "\n",
    "# im = camera.get_image()"
   ]
  },
  {
   "cell_type": "code",
   "execution_count": 106,
   "metadata": {},
   "outputs": [],
   "source": [
    "camera.close()"
   ]
  },
  {
   "cell_type": "code",
   "execution_count": 100,
   "metadata": {},
   "outputs": [
    {
     "data": {
      "text/plain": [
       "['ChunkPixelFormat',\n",
       " 'ChunkPixelFormat_Val',\n",
       " 'ChunkSelector_PixelFormat_Avl',\n",
       " 'ChunkSelector_PixelFormat_Imp',\n",
       " 'PixelFormat',\n",
       " 'PixelFormat_BGR8_Avl',\n",
       " 'PixelFormat_BGR8_Imp',\n",
       " 'PixelFormat_BGRa8_Avl',\n",
       " 'PixelFormat_BGRa8_Imp',\n",
       " 'PixelFormat_BayerBG10Packed_Avl',\n",
       " 'PixelFormat_BayerBG10Packed_Imp',\n",
       " 'PixelFormat_BayerBG10p_Avl',\n",
       " 'PixelFormat_BayerBG10p_Imp',\n",
       " 'PixelFormat_BayerBG12Packed_Avl',\n",
       " 'PixelFormat_BayerBG12Packed_Imp',\n",
       " 'PixelFormat_BayerBG12p_Avl',\n",
       " 'PixelFormat_BayerBG12p_Imp',\n",
       " 'PixelFormat_BayerBG16_Avl',\n",
       " 'PixelFormat_BayerBG16_Imp',\n",
       " 'PixelFormat_BayerBG8_Avl',\n",
       " 'PixelFormat_BayerBG8_Imp',\n",
       " 'PixelFormat_BayerGB10Packed_Avl',\n",
       " 'PixelFormat_BayerGB10Packed_Imp',\n",
       " 'PixelFormat_BayerGB10p_Avl',\n",
       " 'PixelFormat_BayerGB10p_Imp',\n",
       " 'PixelFormat_BayerGB12Packed_Avl',\n",
       " 'PixelFormat_BayerGB12Packed_Imp',\n",
       " 'PixelFormat_BayerGB12p_Avl',\n",
       " 'PixelFormat_BayerGB12p_Imp',\n",
       " 'PixelFormat_BayerGB16_Avl',\n",
       " 'PixelFormat_BayerGB16_Imp',\n",
       " 'PixelFormat_BayerGB8_Avl',\n",
       " 'PixelFormat_BayerGB8_Imp',\n",
       " 'PixelFormat_BayerGR10Packed_Avl',\n",
       " 'PixelFormat_BayerGR10Packed_Imp',\n",
       " 'PixelFormat_BayerGR10p_Avl',\n",
       " 'PixelFormat_BayerGR10p_Imp',\n",
       " 'PixelFormat_BayerGR12Packed_Avl',\n",
       " 'PixelFormat_BayerGR12Packed_Imp',\n",
       " 'PixelFormat_BayerGR12p_Avl',\n",
       " 'PixelFormat_BayerGR12p_Imp',\n",
       " 'PixelFormat_BayerGR16_Avl',\n",
       " 'PixelFormat_BayerGR16_Imp',\n",
       " 'PixelFormat_BayerGR8_Avl',\n",
       " 'PixelFormat_BayerGR8_Imp',\n",
       " 'PixelFormat_BayerRG10Packed_Avl',\n",
       " 'PixelFormat_BayerRG10Packed_Imp',\n",
       " 'PixelFormat_BayerRG10p_Avl',\n",
       " 'PixelFormat_BayerRG10p_Imp',\n",
       " 'PixelFormat_BayerRG12Packed_Avl',\n",
       " 'PixelFormat_BayerRG12Packed_Imp',\n",
       " 'PixelFormat_BayerRG12p_Avl',\n",
       " 'PixelFormat_BayerRG12p_Imp',\n",
       " 'PixelFormat_BayerRG16_Avl',\n",
       " 'PixelFormat_BayerRG16_Imp',\n",
       " 'PixelFormat_BayerRG8_Avl',\n",
       " 'PixelFormat_BayerRG8_Imp',\n",
       " 'PixelFormat_Lck',\n",
       " 'PixelFormat_Locked',\n",
       " 'PixelFormat_Mono10Packed_Avl',\n",
       " 'PixelFormat_Mono10Packed_Imp',\n",
       " 'PixelFormat_Mono10p_Avl',\n",
       " 'PixelFormat_Mono10p_Imp',\n",
       " 'PixelFormat_Mono12Packed_Avl',\n",
       " 'PixelFormat_Mono12Packed_Imp',\n",
       " 'PixelFormat_Mono12p_Avl',\n",
       " 'PixelFormat_Mono12p_Imp',\n",
       " 'PixelFormat_Mono16_Avl',\n",
       " 'PixelFormat_Mono16_Imp',\n",
       " 'PixelFormat_Mono8_Avl',\n",
       " 'PixelFormat_Mono8_Imp',\n",
       " 'PixelFormat_RGB8Packed_Avl',\n",
       " 'PixelFormat_RGB8Packed_Imp',\n",
       " 'PixelFormat_Val',\n",
       " 'PixelFormat_YCbCr411_8_Avl',\n",
       " 'PixelFormat_YCbCr411_8_Imp',\n",
       " 'PixelFormat_YCbCr422_8_Avl',\n",
       " 'PixelFormat_YCbCr422_8_Imp',\n",
       " 'PixelFormat_YCbCr8_Avl',\n",
       " 'PixelFormat_YCbCr8_Imp',\n",
       " 'PixelFormat_YUV411Packed_Avl',\n",
       " 'PixelFormat_YUV411Packed_Imp',\n",
       " 'PixelFormat_YUV422Packed_Avl',\n",
       " 'PixelFormat_YUV422Packed_Imp',\n",
       " 'PixelFormat_YUV444Packed_Avl',\n",
       " 'PixelFormat_YUV444Packed_Imp']"
      ]
     },
     "execution_count": 100,
     "metadata": {},
     "output_type": "execute_result"
    }
   ],
   "source": [
    "sorted([k for k in camera.camera_attributes.keys() if \"PixelFormat\" in k])"
   ]
  },
  {
   "cell_type": "code",
   "execution_count": 104,
   "metadata": {},
   "outputs": [
    {
     "data": {
      "text/plain": [
       "{'name': 'PixelFormat',\n",
       " 'type': 'enum',\n",
       " 'access': 'read/write',\n",
       " 'value': 'Mono12p',\n",
       " 'description': 'Format of the pixel provided by the camera.',\n",
       " 'entries': ['Mono8',\n",
       "  'Mono16',\n",
       "  'RGB8Packed',\n",
       "  'BayerGR8',\n",
       "  'BayerRG8',\n",
       "  'BayerGB8',\n",
       "  'BayerBG8',\n",
       "  'BayerGR16',\n",
       "  'BayerRG16',\n",
       "  'BayerGB16',\n",
       "  'BayerBG16',\n",
       "  'Mono10Packed',\n",
       "  'BayerGR10Packed',\n",
       "  'BayerRG10Packed',\n",
       "  'BayerGB10Packed',\n",
       "  'BayerBG10Packed',\n",
       "  'Mono12Packed',\n",
       "  'BayerGR12Packed',\n",
       "  'BayerRG12Packed',\n",
       "  'BayerGB12Packed',\n",
       "  'BayerBG12Packed',\n",
       "  'YUV411Packed',\n",
       "  'YUV422Packed',\n",
       "  'YUV444Packed',\n",
       "  'Mono10p',\n",
       "  'BayerGR10p',\n",
       "  'BayerRG10p',\n",
       "  'BayerGB10p',\n",
       "  'BayerBG10p',\n",
       "  'Mono12p',\n",
       "  'BayerGR12p',\n",
       "  'BayerRG12p',\n",
       "  'BayerGB12p',\n",
       "  'BayerBG12p',\n",
       "  'YCbCr8',\n",
       "  '8',\n",
       "  '8',\n",
       "  'BGR8',\n",
       "  'BGRa8']}"
      ]
     },
     "execution_count": 104,
     "metadata": {},
     "output_type": "execute_result"
    }
   ],
   "source": [
    "camera.get_info(\"PixelFormat\")"
   ]
  },
  {
   "cell_type": "code",
   "execution_count": 105,
   "metadata": {},
   "outputs": [],
   "source": [
    "camera.PixelFormat = \"BGR8\""
   ]
  },
  {
   "cell_type": "code",
   "execution_count": 29,
   "metadata": {},
   "outputs": [
    {
     "ename": "SpinnakerException",
     "evalue": "Spinnaker: GenICam::OutOfRangeException= Value = 1025 must be equal or smaller than Max = 1024. : OutOfRangeException thrown in node 'Height' while calling 'Height.SetValue()' (file 'IntegerT.h', line 79) [-2002]",
     "output_type": "error",
     "traceback": [
      "\u001b[0;31m---------------------------------------------------------------------------\u001b[0m",
      "\u001b[0;31mSpinnakerException\u001b[0m                        Traceback (most recent call last)",
      "\u001b[0;32m<ipython-input-29-60a3b98c27cb>\u001b[0m in \u001b[0;36m<module>\u001b[0;34m\u001b[0m\n\u001b[0;32m----> 1\u001b[0;31m \u001b[0mcamera\u001b[0m\u001b[0;34m.\u001b[0m\u001b[0mHeight\u001b[0m \u001b[0;34m=\u001b[0m \u001b[0;36m1025\u001b[0m\u001b[0;34m\u001b[0m\u001b[0;34m\u001b[0m\u001b[0m\n\u001b[0m",
      "\u001b[0;32m/data1/code/python/simple_pyspin/simple_pyspin/__init__.py\u001b[0m in \u001b[0;36m__setattr__\u001b[0;34m(self, attr, val)\u001b[0m\n\u001b[1;32m    253\u001b[0m \u001b[0;34m\u001b[0m\u001b[0m\n\u001b[1;32m    254\u001b[0m             \u001b[0;32mif\u001b[0m \u001b[0mhasattr\u001b[0m\u001b[0;34m(\u001b[0m\u001b[0mprop\u001b[0m\u001b[0;34m,\u001b[0m \u001b[0;34m'SetValue'\u001b[0m\u001b[0;34m)\u001b[0m\u001b[0;34m:\u001b[0m\u001b[0;34m\u001b[0m\u001b[0;34m\u001b[0m\u001b[0m\n\u001b[0;32m--> 255\u001b[0;31m                 \u001b[0mprop\u001b[0m\u001b[0;34m.\u001b[0m\u001b[0mSetValue\u001b[0m\u001b[0;34m(\u001b[0m\u001b[0mval\u001b[0m\u001b[0;34m)\u001b[0m\u001b[0;34m\u001b[0m\u001b[0;34m\u001b[0m\u001b[0m\n\u001b[0m\u001b[1;32m    256\u001b[0m             \u001b[0;32melse\u001b[0m\u001b[0;34m:\u001b[0m\u001b[0;34m\u001b[0m\u001b[0;34m\u001b[0m\u001b[0m\n\u001b[1;32m    257\u001b[0m                 \u001b[0mprop\u001b[0m\u001b[0;34m.\u001b[0m\u001b[0mFromString\u001b[0m\u001b[0;34m(\u001b[0m\u001b[0mval\u001b[0m\u001b[0;34m)\u001b[0m\u001b[0;34m\u001b[0m\u001b[0;34m\u001b[0m\u001b[0m\n",
      "\u001b[0;32m~/miniconda3/envs/campy/lib/python3.7/site-packages/PySpin.py\u001b[0m in \u001b[0;36mSetValue\u001b[0;34m(self, Value, Verify)\u001b[0m\n\u001b[1;32m  13156\u001b[0m \u001b[0;34m\u001b[0m\u001b[0m\n\u001b[1;32m  13157\u001b[0m         \"\"\"\n\u001b[0;32m> 13158\u001b[0;31m         \u001b[0;32mreturn\u001b[0m \u001b[0m_PySpin\u001b[0m\u001b[0;34m.\u001b[0m\u001b[0mCIntegerPtr_SetValue\u001b[0m\u001b[0;34m(\u001b[0m\u001b[0mself\u001b[0m\u001b[0;34m,\u001b[0m \u001b[0mValue\u001b[0m\u001b[0;34m,\u001b[0m \u001b[0mVerify\u001b[0m\u001b[0;34m)\u001b[0m\u001b[0;34m\u001b[0m\u001b[0;34m\u001b[0m\u001b[0m\n\u001b[0m\u001b[1;32m  13159\u001b[0m \u001b[0;34m\u001b[0m\u001b[0m\n\u001b[1;32m  13160\u001b[0m \u001b[0;34m\u001b[0m\u001b[0m\n",
      "\u001b[0;31mSpinnakerException\u001b[0m: Spinnaker: GenICam::OutOfRangeException= Value = 1025 must be equal or smaller than Max = 1024. : OutOfRangeException thrown in node 'Height' while calling 'Height.SetValue()' (file 'IntegerT.h', line 79) [-2002]"
     ]
    }
   ],
   "source": [
    "camera.Height = 1025"
   ]
  },
  {
   "cell_type": "code",
   "execution_count": 73,
   "metadata": {},
   "outputs": [
    {
     "data": {
      "text/plain": [
       "<simple_pyspin.Camera at 0x7f18aefdfa90>"
      ]
     },
     "execution_count": 73,
     "metadata": {},
     "output_type": "execute_result"
    }
   ],
   "source": [
    "camera."
   ]
  }
 ],
 "metadata": {
  "kernelspec": {
   "display_name": "Python 3",
   "language": "python",
   "name": "python3"
  },
  "language_info": {
   "codemirror_mode": {
    "name": "ipython",
    "version": 3
   },
   "file_extension": ".py",
   "mimetype": "text/x-python",
   "name": "python",
   "nbconvert_exporter": "python",
   "pygments_lexer": "ipython3",
   "version": "3.7.9"
  }
 },
 "nbformat": 4,
 "nbformat_minor": 4
}
