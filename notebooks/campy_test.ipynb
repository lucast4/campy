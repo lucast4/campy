{
 "cells": [
  {
   "cell_type": "code",
   "execution_count": 4,
   "metadata": {},
   "outputs": [
    {
     "name": "stdout",
     "output_type": "stream",
     "text": [
      "The autoreload extension is already loaded. To reload it, use:\n",
      "  %reload_ext autoreload\n"
     ]
    }
   ],
   "source": [
    "%load_ext autoreload\n",
    "%autoreload 2"
   ]
  },
  {
   "cell_type": "code",
   "execution_count": 5,
   "metadata": {},
   "outputs": [],
   "source": [
    "from campy import campy as cp\n",
    "\n"
   ]
  },
  {
   "cell_type": "code",
   "execution_count": null,
   "metadata": {},
   "outputs": [
    {
     "name": "stdout",
     "output_type": "stream",
     "text": [
      "=== Opening camera\n",
      "Number of cameras detected: 2\n",
      "Printing device information for camera 1... \n",
      "\n",
      "DeviceID: 011398F0\n",
      "DeviceSerialNumber: 18061552\n",
      "DeviceVendorName: Point Grey Research\n",
      "DeviceModelName: Flea3 FL3-U3-13S2C\n",
      "DeviceType: USB3Vision\n",
      "DeviceDisplayName: Point Grey Research Flea3 FL3-U3-13S2C\n",
      "DeviceAccessStatus: OpenReadWrite\n",
      "DeviceVersion: FW:v2.14.3.01 FPGA:v2.02\n",
      "DeviceDriverVersion: none : 0.0.0.0\n",
      "DeviceUserID: \n",
      "DeviceIsUpdater: 0\n",
      "DeviceInstanceId: 011398F0\n",
      "DeviceLocation: \n",
      "DeviceCurrentSpeed: SuperSpeed\n",
      "GUIXMLLocation: Device\n",
      "GUIXMLPath: Input.xml\n",
      "GenICamXMLLocation: Device\n",
      "GenICamXMLPath: \n",
      "DeviceU3VProtocol: 1\n"
     ]
    },
    {
     "name": "stderr",
     "output_type": "stream",
     "text": [
      "/Users/lucas/code/campy/campy/display/display.py:16: UserWarning: Starting a Matplotlib GUI outside of the main thread will likely fail.\n",
      "  figure = plt.figure(num)\n",
      "Exception in thread Thread-5:\n",
      "Traceback (most recent call last):\n",
      "  File \"/Users/lucas/opt/miniconda3/envs/cam/lib/python3.7/threading.py\", line 926, in _bootstrap_inner\n",
      "    self.run()\n",
      "  File \"/Users/lucas/opt/miniconda3/envs/cam/lib/python3.7/threading.py\", line 870, in run\n",
      "    self._target(*self._args, **self._kwargs)\n",
      "  File \"/Users/lucas/code/campy/campy/cameras/flir/cam.py\", line 396, in GrabFrames\n",
      "    if cam_params[\"trigConfig\"] and cam_params[\"settingsConfig\"]:\n",
      "KeyError: 'trigConfig'\n",
      "\n",
      "IMAGEIO FFMPEG_WRITER WARNING: input image is not divisible by macro_block_size=16, resizing from [1152, 712] to (1152, 720) to ensure video compatibility with most codecs and players. To prevent resizing, make your input image divisible by the macro_block_size or set the macro_block_size to 1 (risking incompatibility).\n"
     ]
    }
   ],
   "source": [
    "n_cam = 1\n",
    "fname = \"/Users/lucas/code/campy/configs/config_flir.yaml\"\n",
    "params = cp.LoadConfig(fname)\n",
    "cam_params = cp.CreateCamParams(params, n_cam)\n",
    "cam_params\n",
    "\n",
    "cp.AcquireOneCamera2(n_cam, params)"
   ]
  },
  {
   "cell_type": "code",
   "execution_count": null,
   "metadata": {},
   "outputs": [],
   "source": []
  },
  {
   "cell_type": "code",
   "execution_count": null,
   "metadata": {},
   "outputs": [],
   "source": [
    "import threading, queue\n",
    "from collections import deque\n",
    "\n",
    "\n",
    "threading.Thread()"
   ]
  }
 ],
 "metadata": {
  "kernelspec": {
   "display_name": "Python 3",
   "language": "python",
   "name": "python3"
  },
  "language_info": {
   "codemirror_mode": {
    "name": "ipython",
    "version": 3
   },
   "file_extension": ".py",
   "mimetype": "text/x-python",
   "name": "python",
   "nbconvert_exporter": "python",
   "pygments_lexer": "ipython3",
   "version": "3.6.9"
  }
 },
 "nbformat": 4,
 "nbformat_minor": 4
}
