{
 "cells": [
  {
   "cell_type": "code",
   "execution_count": 1,
   "id": "genuine-recording",
   "metadata": {},
   "outputs": [],
   "source": [
    "from simple_pyspin import Camera\n"
   ]
  },
  {
   "cell_type": "code",
   "execution_count": 3,
   "id": "aging-publication",
   "metadata": {},
   "outputs": [],
   "source": [
    "with Camera() as cam: # Acquire and initialize Camera\n",
    "    cam.start() # Start recording\n",
    "    imgs = [cam.get_array() for n in range(10)] # Get 10 frames\n",
    "    cam.stop() # Stop recording\n"
   ]
  },
  {
   "cell_type": "code",
   "execution_count": 5,
   "id": "offshore-resort",
   "metadata": {},
   "outputs": [],
   "source": [
    "cam = Camera()\n"
   ]
  },
  {
   "cell_type": "code",
   "execution_count": 11,
   "id": "recognized-retention",
   "metadata": {},
   "outputs": [],
   "source": [
    "cam.init()\n"
   ]
  },
  {
   "cell_type": "code",
   "execution_count": 34,
   "id": "color-latin",
   "metadata": {},
   "outputs": [
    {
     "data": {
      "text/plain": [
       "['__class__',\n",
       " '__delattr__',\n",
       " '__dict__',\n",
       " '__dir__',\n",
       " '__doc__',\n",
       " '__enter__',\n",
       " '__eq__',\n",
       " '__exit__',\n",
       " '__format__',\n",
       " '__ge__',\n",
       " '__getattr__',\n",
       " '__getattribute__',\n",
       " '__gt__',\n",
       " '__hash__',\n",
       " '__init__',\n",
       " '__init_subclass__',\n",
       " '__le__',\n",
       " '__lt__',\n",
       " '__module__',\n",
       " '__ne__',\n",
       " '__new__',\n",
       " '__reduce__',\n",
       " '__reduce_ex__',\n",
       " '__repr__',\n",
       " '__setattr__',\n",
       " '__sizeof__',\n",
       " '__str__',\n",
       " '__subclasshook__',\n",
       " '__weakref__',\n",
       " '_attr_type_names',\n",
       " '_attr_types',\n",
       " '_rw_modes',\n",
       " 'cam',\n",
       " 'camera_attributes',\n",
       " 'camera_methods',\n",
       " 'camera_node_types',\n",
       " 'close',\n",
       " 'document',\n",
       " 'get_array',\n",
       " 'get_image',\n",
       " 'get_info',\n",
       " 'init',\n",
       " 'initialized',\n",
       " 'lock',\n",
       " 'running',\n",
       " 'start',\n",
       " 'stop']"
      ]
     },
     "execution_count": 34,
     "metadata": {},
     "output_type": "execute_result"
    }
   ],
   "source": [
    "dir(cam)"
   ]
  },
  {
   "cell_type": "code",
   "execution_count": null,
   "id": "fatty-function",
   "metadata": {},
   "outputs": [],
   "source": [
    "\n"
   ]
  }
 ],
 "metadata": {
  "kernelspec": {
   "display_name": "Python 3",
   "language": "python",
   "name": "python3"
  },
  "language_info": {
   "codemirror_mode": {
    "name": "ipython",
    "version": 3
   },
   "file_extension": ".py",
   "mimetype": "text/x-python",
   "name": "python",
   "nbconvert_exporter": "python",
   "pygments_lexer": "ipython3",
   "version": "3.7.9"
  }
 },
 "nbformat": 4,
 "nbformat_minor": 5
}
