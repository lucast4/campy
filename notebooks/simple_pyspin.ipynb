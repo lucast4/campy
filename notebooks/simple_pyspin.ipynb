{
 "cells": [
  {
   "cell_type": "code",
   "execution_count": 1,
   "id": "interior-joint",
   "metadata": {},
   "outputs": [],
   "source": [
    "from simple_pyspin import Camera\n"
   ]
  },
  {
   "cell_type": "code",
   "execution_count": 8,
   "id": "coated-passing",
   "metadata": {},
   "outputs": [
    {
     "name": "stdout",
     "output_type": "stream",
     "text": [
      "{'name': 'PixelFormat', 'type': 'enum', 'access': 'read/write', 'value': 'Mono8', 'description': 'Format of the pixel data.', 'entries': ['Mono8', 'Mono12Packed', 'Mono12p', 'Mono16', 'BayerGR8', 'BayerRG8', 'BayerGB8', 'BayerBG8', 'BayerGR12p', 'BayerRG12p', 'BayerGB12p', 'BayerBG12p', 'BayerGR12Packed', 'BayerRG12Packed', 'BayerGB12Packed', 'BayerBG12Packed', 'BayerGR16', 'BayerRG16', 'BayerGB16', 'BayerBG16', 'CbYYCrYY', 'CbYCrY', 'CbYCr', 'RGB8'], 'entry_descriptions': ['Pixel format set to Mono 8.', 'Pixel format set Mono 12 IIDC-msb Packed.', 'Pixel format set to 12-bit monochrome pixel lsb packed.', 'Pixel format set to Mono 16.', 'Pixel format set to Bayer GR 8.', 'Pixel format set to Bayer RG 8.', 'Pixel format set to Bayer GB 8.', 'Pixel format set to Bayer BG 8.', 'Pixel format set to 12-bit bayer GR lsb packed.', 'Pixel format set to 12-bit bayer RG lsb packed.', 'Pixel format set to 12-bit bayer GB lsb packed.', 'Pixel format set to 12-bit bayer BG lsb packed.', 'Pixel format set BayerGR 12 IIDC-msb Packed.', 'Pixel format set BayerRG 12 IIDC-msb Packed.', 'Pixel format set BayerGB 12 IIDC-msb Packed.', 'Pixel format set BayerBG 12 IIDC-msb Packed.', 'Pixel format set BayerGR 16.', 'Pixel format set BayerRG 16.', 'Pixel format set BayerGB 16.', 'Pixel format set BayerBG 16.', 'Pixel format set to 8-bit YCbCr 4:1:1 (CbYYCrYY).', \"Pixel format set to 8-bit Y'CbCr 4:2:2 (CbYCrY).\", 'Pixel format set to 8-bit YCbCr 4:4:4 (CbYCr).', 'Pixel format set RGB 8.']}\n"
     ]
    },
    {
     "ename": "SpinnakerException",
     "evalue": "Spinnaker: GenICam::AccessException= Failed to write enumeration value. Enum entry is not writable : AccessException thrown in node 'PixelFormat' while calling 'PixelFormat.FromString()' (file 'Enumeration.cpp', line 135) [-2006]",
     "output_type": "error",
     "traceback": [
      "\u001b[1;31m---------------------------------------------------------------------------\u001b[0m",
      "\u001b[1;31mSpinnakerException\u001b[0m                        Traceback (most recent call last)",
      "\u001b[1;32m<ipython-input-8-fe62245e0d31>\u001b[0m in \u001b[0;36m<module>\u001b[1;34m\u001b[0m\n\u001b[0;32m      5\u001b[0m     \u001b[0mprint\u001b[0m\u001b[1;33m(\u001b[0m\u001b[0mcam\u001b[0m\u001b[1;33m.\u001b[0m\u001b[0mget_info\u001b[0m\u001b[1;33m(\u001b[0m\u001b[1;34m\"PixelFormat\"\u001b[0m\u001b[1;33m)\u001b[0m\u001b[1;33m)\u001b[0m\u001b[1;33m\u001b[0m\u001b[1;33m\u001b[0m\u001b[0m\n\u001b[0;32m      6\u001b[0m \u001b[1;31m#     print(sorted([k for k in cam.camera_attributes.keys() if \"FrameRate\" in k]))\u001b[0m\u001b[1;33m\u001b[0m\u001b[1;33m\u001b[0m\u001b[1;33m\u001b[0m\u001b[0m\n\u001b[1;32m----> 7\u001b[1;33m     \u001b[0mcam\u001b[0m\u001b[1;33m.\u001b[0m\u001b[0mPixelFormat\u001b[0m \u001b[1;33m=\u001b[0m \u001b[1;34m\"BayerBG8\"\u001b[0m\u001b[1;33m\u001b[0m\u001b[1;33m\u001b[0m\u001b[0m\n\u001b[0m\u001b[0;32m      8\u001b[0m     \u001b[0mcam\u001b[0m\u001b[1;33m.\u001b[0m\u001b[0mcam\u001b[0m\u001b[1;33m.\u001b[0m\u001b[0mPixelFormat\u001b[0m\u001b[1;33m.\u001b[0m\u001b[0mSetValue\u001b[0m\u001b[1;33m(\u001b[0m\u001b[0mPySpin\u001b[0m\u001b[1;33m.\u001b[0m\u001b[0mPixelFormat_BayerBG8\u001b[0m\u001b[1;33m)\u001b[0m\u001b[1;33m\u001b[0m\u001b[1;33m\u001b[0m\u001b[0m\n",
      "\u001b[1;32mc:\\users\\lucast4\\lt\\code\\simple_pyspin\\simple_pyspin\\__init__.py\u001b[0m in \u001b[0;36m__setattr__\u001b[1;34m(self, attr, val)\u001b[0m\n\u001b[0;32m    267\u001b[0m                 \u001b[0mprop\u001b[0m\u001b[1;33m.\u001b[0m\u001b[0mSetValue\u001b[0m\u001b[1;33m(\u001b[0m\u001b[0mval\u001b[0m\u001b[1;33m)\u001b[0m\u001b[1;33m\u001b[0m\u001b[1;33m\u001b[0m\u001b[0m\n\u001b[0;32m    268\u001b[0m             \u001b[1;32melse\u001b[0m\u001b[1;33m:\u001b[0m\u001b[1;33m\u001b[0m\u001b[1;33m\u001b[0m\u001b[0m\n\u001b[1;32m--> 269\u001b[1;33m                 \u001b[0mprop\u001b[0m\u001b[1;33m.\u001b[0m\u001b[0mFromString\u001b[0m\u001b[1;33m(\u001b[0m\u001b[0mval\u001b[0m\u001b[1;33m)\u001b[0m\u001b[1;33m\u001b[0m\u001b[1;33m\u001b[0m\u001b[0m\n\u001b[0m\u001b[0;32m    270\u001b[0m \u001b[1;33m\u001b[0m\u001b[0m\n\u001b[0;32m    271\u001b[0m         \u001b[1;32melif\u001b[0m \u001b[0mattr\u001b[0m \u001b[1;32min\u001b[0m \u001b[0mself\u001b[0m\u001b[1;33m.\u001b[0m\u001b[0mcamera_methods\u001b[0m\u001b[1;33m:\u001b[0m\u001b[1;33m\u001b[0m\u001b[1;33m\u001b[0m\u001b[0m\n",
      "\u001b[1;32mC:\\ProgramData\\Miniconda3\\envs\\campy\\lib\\site-packages\\PySpin\\PySpin.py\u001b[0m in \u001b[0;36mFromString\u001b[1;34m(self, ValueStr, Verify)\u001b[0m\n\u001b[0;32m  12755\u001b[0m \u001b[1;33m\u001b[0m\u001b[0m\n\u001b[0;32m  12756\u001b[0m         \"\"\"\n\u001b[1;32m> 12757\u001b[1;33m         \u001b[1;32mreturn\u001b[0m \u001b[0m_PySpin\u001b[0m\u001b[1;33m.\u001b[0m\u001b[0mCEnumerationPtr_FromString\u001b[0m\u001b[1;33m(\u001b[0m\u001b[0mself\u001b[0m\u001b[1;33m,\u001b[0m \u001b[0mValueStr\u001b[0m\u001b[1;33m,\u001b[0m \u001b[0mVerify\u001b[0m\u001b[1;33m)\u001b[0m\u001b[1;33m\u001b[0m\u001b[1;33m\u001b[0m\u001b[0m\n\u001b[0m\u001b[0;32m  12758\u001b[0m \u001b[1;33m\u001b[0m\u001b[0m\n\u001b[0;32m  12759\u001b[0m     \u001b[1;32mdef\u001b[0m \u001b[0mIsValueCacheValid\u001b[0m\u001b[1;33m(\u001b[0m\u001b[0mself\u001b[0m\u001b[1;33m)\u001b[0m\u001b[1;33m:\u001b[0m\u001b[1;33m\u001b[0m\u001b[1;33m\u001b[0m\u001b[0m\n",
      "\u001b[1;31mSpinnakerException\u001b[0m: Spinnaker: GenICam::AccessException= Failed to write enumeration value. Enum entry is not writable : AccessException thrown in node 'PixelFormat' while calling 'PixelFormat.FromString()' (file 'Enumeration.cpp', line 135) [-2006]"
     ]
    }
   ],
   "source": [
    "with Camera() as cam: # Acquire and initialize Camera\n",
    "#     print(cam.AcquisitionFrameRate)\n",
    "#     print(cam.camera_attributes)\n",
    "#     print(cam.get_info(\"TriggerMode\"))\n",
    "    print(cam.get_info(\"PixelFormat\"))\n",
    "#     print(sorted([k for k in cam.camera_attributes.keys() if \"FrameRate\" in k]))\n",
    "    cam.PixelFormat = \"BayerBG8\"\n",
    "    cam.cam.PixelFormat.SetValue(PySpin.PixelFormat_BayerBG8)"
   ]
  },
  {
   "cell_type": "code",
   "execution_count": 5,
   "id": "moral-palmer",
   "metadata": {},
   "outputs": [],
   "source": [
    "cam = Camera()\n"
   ]
  },
  {
   "cell_type": "code",
   "execution_count": 5,
   "id": "lesser-filling",
   "metadata": {},
   "outputs": [],
   "source": [
    "cam.init()\n"
   ]
  },
  {
   "cell_type": "code",
   "execution_count": 15,
   "id": "assisted-python",
   "metadata": {},
   "outputs": [
    {
     "data": {
      "text/plain": [
       "{'name': 'TriggerMode',\n",
       " 'type': 'enum',\n",
       " 'access': 'read/write',\n",
       " 'value': 'Off',\n",
       " 'description': 'Controls whether or not trigger is active.',\n",
       " 'entries': ['Off', 'On']}"
      ]
     },
     "execution_count": 15,
     "metadata": {},
     "output_type": "execute_result"
    }
   ],
   "source": [
    "cam.get_info(\"TriggerMode\")"
   ]
  },
  {
   "cell_type": "code",
   "execution_count": 18,
   "id": "subsequent-tuesday",
   "metadata": {},
   "outputs": [
    {
     "data": {
      "text/plain": [
       "3096"
      ]
     },
     "execution_count": 18,
     "metadata": {},
     "output_type": "execute_result"
    }
   ],
   "source": [
    "cam.SensorWidth"
   ]
  }
 ],
 "metadata": {
  "kernelspec": {
   "display_name": "Python 3",
   "language": "python",
   "name": "python3"
  },
  "language_info": {
   "codemirror_mode": {
    "name": "ipython",
    "version": 3
   },
   "file_extension": ".py",
   "mimetype": "text/x-python",
   "name": "python",
   "nbconvert_exporter": "python",
   "pygments_lexer": "ipython3",
   "version": "3.7.9"
  }
 },
 "nbformat": 4,
 "nbformat_minor": 5
}
