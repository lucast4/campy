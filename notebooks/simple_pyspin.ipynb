{
 "cells": [
  {
   "cell_type": "code",
   "execution_count": 1,
   "id": "interior-joint",
   "metadata": {},
   "outputs": [],
   "source": [
    "from simple_pyspin import Camera\n",
    "\n"
   ]
  },
  {
   "cell_type": "code",
   "execution_count": 17,
   "id": "coated-passing",
   "metadata": {},
   "outputs": [
    {
     "name": "stdout",
     "output_type": "stream",
     "text": [
      "{'name': 'Width', 'type': 'int', 'access': 'read/write', 'value': 896, 'description': 'Width of the image provided by the device (in pixels).', 'unit': '', 'min': 16, 'max': 1296}\n",
      "{'name': 'Width', 'type': 'int', 'access': 'read/write', 'value': 896, 'description': 'Width of the image provided by the device (in pixels).', 'unit': '', 'min': 16, 'max': 1296}\n",
      "{'name': 'Height', 'type': 'int', 'access': 'read/write', 'value': 900, 'description': 'Height of the image provided by the device (in pixels).', 'unit': '', 'min': 2, 'max': 1004}\n",
      "{'name': 'Height', 'type': 'int', 'access': 'read/write', 'value': 900, 'description': 'Height of the image provided by the device (in pixels).', 'unit': '', 'min': 2, 'max': 974}\n"
     ]
    }
   ],
   "source": [
    "with Camera() as cam: # Acquire and initialize Camera\n",
    "#     print(cam.AcquisitionFrameRate)\n",
    "#     print(cam.camera_attributes)\n",
    "#     print(cam.get_info(\"TriggerMode\"))\n",
    "#     print(sorted([k for k in cam.camera_attributes.keys() if \"Shutter\" in k]))\n",
    "    print(cam.get_info(\"Width\"))\n",
    "    cam.Width = 896\n",
    "    print(cam.get_info(\"Width\"))\n",
    "    print(cam.get_info(\"Height\"))\n",
    "    cam.Height = 900\n",
    "    cam.OffsetX = 216\n",
    "    cam.OffsetY = 74\n",
    "\n",
    "#     cam.Width = 896\n",
    "    print(cam.get_info(\"Height\"))\n",
    "#     print(cam.get_info(\"SensorShutterMode\"))\n",
    "#     cam.SensorShutterMode  = \"GlobalReset\"\n",
    "    \n",
    "#     cam.TriggerMode = \"On\"\n",
    "#     print(cam.get_info(\"TriggerMode\"))\n",
    "# #     print(cam.get_info(\"TriggerOverlap\"))\n",
    "#     print(cam.get_info(\"TriggerActivation\"))\n",
    "# #     print(sorted([k for k in cam.camera_attributes.keys() if \"FrameRate\" in k]))\n",
    "#     cam.PixelFormat = \"BayerBG8\"\n",
    "#     cam.cam.PixelFormat.SetValue(PySpin.PixelFormat_BayerBG8)"
   ]
  },
  {
   "cell_type": "code",
   "execution_count": 5,
   "id": "moral-palmer",
   "metadata": {},
   "outputs": [],
   "source": [
    "cam = Camera()\n"
   ]
  },
  {
   "cell_type": "code",
   "execution_count": 5,
   "id": "lesser-filling",
   "metadata": {},
   "outputs": [],
   "source": [
    "cam.init()\n"
   ]
  },
  {
   "cell_type": "code",
   "execution_count": 15,
   "id": "assisted-python",
   "metadata": {},
   "outputs": [
    {
     "data": {
      "text/plain": [
       "{'name': 'TriggerMode',\n",
       " 'type': 'enum',\n",
       " 'access': 'read/write',\n",
       " 'value': 'Off',\n",
       " 'description': 'Controls whether or not trigger is active.',\n",
       " 'entries': ['Off', 'On']}"
      ]
     },
     "execution_count": 15,
     "metadata": {},
     "output_type": "execute_result"
    }
   ],
   "source": [
    "cam.get_info(\"TriggerMode\")"
   ]
  },
  {
   "cell_type": "code",
   "execution_count": 18,
   "id": "subsequent-tuesday",
   "metadata": {},
   "outputs": [
    {
     "data": {
      "text/plain": [
       "3096"
      ]
     },
     "execution_count": 18,
     "metadata": {},
     "output_type": "execute_result"
    }
   ],
   "source": [
    "cam.SensorWidth"
   ]
  }
 ],
 "metadata": {
  "kernelspec": {
   "display_name": "Python 3",
   "language": "python",
   "name": "python3"
  },
  "language_info": {
   "codemirror_mode": {
    "name": "ipython",
    "version": 3
   },
   "file_extension": ".py",
   "mimetype": "text/x-python",
   "name": "python",
   "nbconvert_exporter": "python",
   "pygments_lexer": "ipython3",
   "version": "3.7.9"
  }
 },
 "nbformat": 4,
 "nbformat_minor": 5
}
